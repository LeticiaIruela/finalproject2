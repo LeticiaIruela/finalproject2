{
 "cells": [
  {
   "cell_type": "code",
   "execution_count": 1,
   "id": "2379c8ef",
   "metadata": {
    "scrolled": true
   },
   "outputs": [],
   "source": [
    "import keras\n",
    "import numpy as np\n",
    "import pandas as pd\n",
    "import os\n",
    "from keras.preprocessing import image\n",
    "import tensorflow as tf\n",
    "from PIL import Image\n",
    "from sklearn.metrics import accuracy_score\n",
    "import re\n"
   ]
  },
  {
   "cell_type": "code",
   "execution_count": 2,
   "id": "aff67238",
   "metadata": {},
   "outputs": [],
   "source": [
    "from tensorflow.keras.preprocessing.image import ImageDataGenerator\n",
    "from tensorflow.keras.applications import EfficientNetB0\n",
    "from tensorflow.keras.layers import Dense, GlobalAveragePooling2D\n",
    "from tensorflow.keras.models import Model\n",
    "from keras.preprocessing import image\n",
    "from tensorflow.keras.preprocessing.image import ImageDataGenerator\n",
    "from tensorflow.keras.applications.efficientnet import preprocess_input, EfficientNetB0"
   ]
  },
  {
   "cell_type": "code",
   "execution_count": 3,
   "id": "5b2c4b38",
   "metadata": {},
   "outputs": [],
   "source": [
    "from sklearn.model_selection import train_test_split"
   ]
  },
  {
   "cell_type": "code",
   "execution_count": 4,
   "id": "3b5fa099",
   "metadata": {},
   "outputs": [],
   "source": [
    "from tensorflow.keras.preprocessing import image"
   ]
  },
  {
   "cell_type": "code",
   "execution_count": 5,
   "id": "35aac772",
   "metadata": {},
   "outputs": [
    {
     "data": {
      "text/html": [
       "<div>\n",
       "<style scoped>\n",
       "    .dataframe tbody tr th:only-of-type {\n",
       "        vertical-align: middle;\n",
       "    }\n",
       "\n",
       "    .dataframe tbody tr th {\n",
       "        vertical-align: top;\n",
       "    }\n",
       "\n",
       "    .dataframe thead th {\n",
       "        text-align: right;\n",
       "    }\n",
       "</style>\n",
       "<table border=\"1\" class=\"dataframe\">\n",
       "  <thead>\n",
       "    <tr style=\"text-align: right;\">\n",
       "      <th></th>\n",
       "      <th>Image</th>\n",
       "      <th>Category</th>\n",
       "    </tr>\n",
       "  </thead>\n",
       "  <tbody>\n",
       "    <tr>\n",
       "      <th>0</th>\n",
       "      <td>battery/battery1.jpg</td>\n",
       "      <td>0</td>\n",
       "    </tr>\n",
       "    <tr>\n",
       "      <th>1</th>\n",
       "      <td>battery/battery10.jpg</td>\n",
       "      <td>0</td>\n",
       "    </tr>\n",
       "    <tr>\n",
       "      <th>2</th>\n",
       "      <td>battery/battery100.jpg</td>\n",
       "      <td>0</td>\n",
       "    </tr>\n",
       "    <tr>\n",
       "      <th>3</th>\n",
       "      <td>battery/battery101.jpg</td>\n",
       "      <td>0</td>\n",
       "    </tr>\n",
       "    <tr>\n",
       "      <th>4</th>\n",
       "      <td>battery/battery102.jpg</td>\n",
       "      <td>0</td>\n",
       "    </tr>\n",
       "    <tr>\n",
       "      <th>...</th>\n",
       "      <td>...</td>\n",
       "      <td>...</td>\n",
       "    </tr>\n",
       "    <tr>\n",
       "      <th>15510</th>\n",
       "      <td>white-glass/white-glass95.jpg</td>\n",
       "      <td>12</td>\n",
       "    </tr>\n",
       "    <tr>\n",
       "      <th>15511</th>\n",
       "      <td>white-glass/white-glass96.jpg</td>\n",
       "      <td>12</td>\n",
       "    </tr>\n",
       "    <tr>\n",
       "      <th>15512</th>\n",
       "      <td>white-glass/white-glass97.jpg</td>\n",
       "      <td>12</td>\n",
       "    </tr>\n",
       "    <tr>\n",
       "      <th>15513</th>\n",
       "      <td>white-glass/white-glass98.jpg</td>\n",
       "      <td>12</td>\n",
       "    </tr>\n",
       "    <tr>\n",
       "      <th>15514</th>\n",
       "      <td>white-glass/white-glass99.jpg</td>\n",
       "      <td>12</td>\n",
       "    </tr>\n",
       "  </tbody>\n",
       "</table>\n",
       "<p>15515 rows × 2 columns</p>\n",
       "</div>"
      ],
      "text/plain": [
       "                               Image  Category\n",
       "0               battery/battery1.jpg         0\n",
       "1              battery/battery10.jpg         0\n",
       "2             battery/battery100.jpg         0\n",
       "3             battery/battery101.jpg         0\n",
       "4             battery/battery102.jpg         0\n",
       "...                              ...       ...\n",
       "15510  white-glass/white-glass95.jpg        12\n",
       "15511  white-glass/white-glass96.jpg        12\n",
       "15512  white-glass/white-glass97.jpg        12\n",
       "15513  white-glass/white-glass98.jpg        12\n",
       "15514  white-glass/white-glass99.jpg        12\n",
       "\n",
       "[15515 rows x 2 columns]"
      ]
     },
     "execution_count": 5,
     "metadata": {},
     "output_type": "execute_result"
    }
   ],
   "source": [
    "df=pd.read_csv('df_f.csv')\n",
    "df"
   ]
  },
  {
   "cell_type": "code",
   "execution_count": 6,
   "id": "9f9d2c9b",
   "metadata": {},
   "outputs": [],
   "source": [
    "garbage_types_labels = {\n",
    "    0: 'battery',\n",
    "    1: 'biological',\n",
    "    3: 'brown-glass',\n",
    "    4: 'cardboard',\n",
    "    5: 'clothes',\n",
    "    6: 'green-glass',\n",
    "    7: 'metal',\n",
    "    8: 'paper',\n",
    "    9: 'plastic',\n",
    "    10: 'shoes',\n",
    "    11: 'trash',\n",
    "    12: 'white-glass'\n",
    "}"
   ]
  },
  {
   "cell_type": "code",
   "execution_count": 7,
   "id": "97eb13c1",
   "metadata": {},
   "outputs": [
    {
     "data": {
      "text/html": [
       "<div>\n",
       "<style scoped>\n",
       "    .dataframe tbody tr th:only-of-type {\n",
       "        vertical-align: middle;\n",
       "    }\n",
       "\n",
       "    .dataframe tbody tr th {\n",
       "        vertical-align: top;\n",
       "    }\n",
       "\n",
       "    .dataframe thead th {\n",
       "        text-align: right;\n",
       "    }\n",
       "</style>\n",
       "<table border=\"1\" class=\"dataframe\">\n",
       "  <thead>\n",
       "    <tr style=\"text-align: right;\">\n",
       "      <th></th>\n",
       "      <th>Image</th>\n",
       "      <th>Category</th>\n",
       "    </tr>\n",
       "  </thead>\n",
       "  <tbody>\n",
       "    <tr>\n",
       "      <th>0</th>\n",
       "      <td>battery/battery1.jpg</td>\n",
       "      <td>0</td>\n",
       "    </tr>\n",
       "    <tr>\n",
       "      <th>1</th>\n",
       "      <td>battery/battery10.jpg</td>\n",
       "      <td>0</td>\n",
       "    </tr>\n",
       "    <tr>\n",
       "      <th>2</th>\n",
       "      <td>battery/battery100.jpg</td>\n",
       "      <td>0</td>\n",
       "    </tr>\n",
       "    <tr>\n",
       "      <th>3</th>\n",
       "      <td>battery/battery101.jpg</td>\n",
       "      <td>0</td>\n",
       "    </tr>\n",
       "    <tr>\n",
       "      <th>4</th>\n",
       "      <td>battery/battery102.jpg</td>\n",
       "      <td>0</td>\n",
       "    </tr>\n",
       "    <tr>\n",
       "      <th>...</th>\n",
       "      <td>...</td>\n",
       "      <td>...</td>\n",
       "    </tr>\n",
       "    <tr>\n",
       "      <th>15510</th>\n",
       "      <td>white-glass/white-glass95.jpg</td>\n",
       "      <td>12</td>\n",
       "    </tr>\n",
       "    <tr>\n",
       "      <th>15511</th>\n",
       "      <td>white-glass/white-glass96.jpg</td>\n",
       "      <td>12</td>\n",
       "    </tr>\n",
       "    <tr>\n",
       "      <th>15512</th>\n",
       "      <td>white-glass/white-glass97.jpg</td>\n",
       "      <td>12</td>\n",
       "    </tr>\n",
       "    <tr>\n",
       "      <th>15513</th>\n",
       "      <td>white-glass/white-glass98.jpg</td>\n",
       "      <td>12</td>\n",
       "    </tr>\n",
       "    <tr>\n",
       "      <th>15514</th>\n",
       "      <td>white-glass/white-glass99.jpg</td>\n",
       "      <td>12</td>\n",
       "    </tr>\n",
       "  </tbody>\n",
       "</table>\n",
       "<p>15515 rows × 2 columns</p>\n",
       "</div>"
      ],
      "text/plain": [
       "                               Image  Category\n",
       "0               battery/battery1.jpg         0\n",
       "1              battery/battery10.jpg         0\n",
       "2             battery/battery100.jpg         0\n",
       "3             battery/battery101.jpg         0\n",
       "4             battery/battery102.jpg         0\n",
       "...                              ...       ...\n",
       "15510  white-glass/white-glass95.jpg        12\n",
       "15511  white-glass/white-glass96.jpg        12\n",
       "15512  white-glass/white-glass97.jpg        12\n",
       "15513  white-glass/white-glass98.jpg        12\n",
       "15514  white-glass/white-glass99.jpg        12\n",
       "\n",
       "[15515 rows x 2 columns]"
      ]
     },
     "execution_count": 7,
     "metadata": {},
     "output_type": "execute_result"
    }
   ],
   "source": [
    "df"
   ]
  },
  {
   "cell_type": "code",
   "execution_count": 8,
   "id": "d76de3c0",
   "metadata": {},
   "outputs": [],
   "source": [
    "df[\"Category\"] = df[\"Category\"].replace(garbage_types_labels) "
   ]
  },
  {
   "cell_type": "code",
   "execution_count": 9,
   "id": "c5145134",
   "metadata": {},
   "outputs": [
    {
     "data": {
      "text/html": [
       "<div>\n",
       "<style scoped>\n",
       "    .dataframe tbody tr th:only-of-type {\n",
       "        vertical-align: middle;\n",
       "    }\n",
       "\n",
       "    .dataframe tbody tr th {\n",
       "        vertical-align: top;\n",
       "    }\n",
       "\n",
       "    .dataframe thead th {\n",
       "        text-align: right;\n",
       "    }\n",
       "</style>\n",
       "<table border=\"1\" class=\"dataframe\">\n",
       "  <thead>\n",
       "    <tr style=\"text-align: right;\">\n",
       "      <th></th>\n",
       "      <th>Image</th>\n",
       "      <th>Category</th>\n",
       "    </tr>\n",
       "  </thead>\n",
       "  <tbody>\n",
       "    <tr>\n",
       "      <th>0</th>\n",
       "      <td>battery/battery1.jpg</td>\n",
       "      <td>battery</td>\n",
       "    </tr>\n",
       "    <tr>\n",
       "      <th>1</th>\n",
       "      <td>battery/battery10.jpg</td>\n",
       "      <td>battery</td>\n",
       "    </tr>\n",
       "    <tr>\n",
       "      <th>2</th>\n",
       "      <td>battery/battery100.jpg</td>\n",
       "      <td>battery</td>\n",
       "    </tr>\n",
       "    <tr>\n",
       "      <th>3</th>\n",
       "      <td>battery/battery101.jpg</td>\n",
       "      <td>battery</td>\n",
       "    </tr>\n",
       "    <tr>\n",
       "      <th>4</th>\n",
       "      <td>battery/battery102.jpg</td>\n",
       "      <td>battery</td>\n",
       "    </tr>\n",
       "    <tr>\n",
       "      <th>...</th>\n",
       "      <td>...</td>\n",
       "      <td>...</td>\n",
       "    </tr>\n",
       "    <tr>\n",
       "      <th>15510</th>\n",
       "      <td>white-glass/white-glass95.jpg</td>\n",
       "      <td>white-glass</td>\n",
       "    </tr>\n",
       "    <tr>\n",
       "      <th>15511</th>\n",
       "      <td>white-glass/white-glass96.jpg</td>\n",
       "      <td>white-glass</td>\n",
       "    </tr>\n",
       "    <tr>\n",
       "      <th>15512</th>\n",
       "      <td>white-glass/white-glass97.jpg</td>\n",
       "      <td>white-glass</td>\n",
       "    </tr>\n",
       "    <tr>\n",
       "      <th>15513</th>\n",
       "      <td>white-glass/white-glass98.jpg</td>\n",
       "      <td>white-glass</td>\n",
       "    </tr>\n",
       "    <tr>\n",
       "      <th>15514</th>\n",
       "      <td>white-glass/white-glass99.jpg</td>\n",
       "      <td>white-glass</td>\n",
       "    </tr>\n",
       "  </tbody>\n",
       "</table>\n",
       "<p>15515 rows × 2 columns</p>\n",
       "</div>"
      ],
      "text/plain": [
       "                               Image     Category\n",
       "0               battery/battery1.jpg      battery\n",
       "1              battery/battery10.jpg      battery\n",
       "2             battery/battery100.jpg      battery\n",
       "3             battery/battery101.jpg      battery\n",
       "4             battery/battery102.jpg      battery\n",
       "...                              ...          ...\n",
       "15510  white-glass/white-glass95.jpg  white-glass\n",
       "15511  white-glass/white-glass96.jpg  white-glass\n",
       "15512  white-glass/white-glass97.jpg  white-glass\n",
       "15513  white-glass/white-glass98.jpg  white-glass\n",
       "15514  white-glass/white-glass99.jpg  white-glass\n",
       "\n",
       "[15515 rows x 2 columns]"
      ]
     },
     "execution_count": 9,
     "metadata": {},
     "output_type": "execute_result"
    }
   ],
   "source": [
    "df"
   ]
  },
  {
   "cell_type": "code",
   "execution_count": 10,
   "id": "6959b803",
   "metadata": {},
   "outputs": [],
   "source": [
    "train_df, validate_df = train_test_split(df, test_size=0.2, random_state=42)\n",
    "validate_df, test_df = train_test_split(validate_df, test_size=0.5, random_state=42)\n",
    "\n",
    "train_df = train_df.reset_index(drop=True)\n",
    "validate_df = validate_df.reset_index(drop=True)\n",
    "test_df = test_df.reset_index(drop=True)\n",
    "\n",
    "train = train_df.shape[0]\n",
    "validate = validate_df.shape[0]\n",
    "test=test_df.shape[0]"
   ]
  },
  {
   "cell_type": "code",
   "execution_count": 11,
   "id": "056f2516",
   "metadata": {},
   "outputs": [
    {
     "data": {
      "text/plain": [
       "1552"
      ]
     },
     "execution_count": 11,
     "metadata": {},
     "output_type": "execute_result"
    }
   ],
   "source": [
    "test"
   ]
  },
  {
   "cell_type": "code",
   "execution_count": 12,
   "id": "e3eed09b",
   "metadata": {},
   "outputs": [
    {
     "data": {
      "text/plain": [
       "1551"
      ]
     },
     "execution_count": 12,
     "metadata": {},
     "output_type": "execute_result"
    }
   ],
   "source": [
    "validate"
   ]
  },
  {
   "cell_type": "code",
   "execution_count": 13,
   "id": "d0dfff79",
   "metadata": {},
   "outputs": [
    {
     "data": {
      "text/plain": [
       "12412"
      ]
     },
     "execution_count": 13,
     "metadata": {},
     "output_type": "execute_result"
    }
   ],
   "source": [
    "train"
   ]
  },
  {
   "cell_type": "code",
   "execution_count": 15,
   "id": "d985c569",
   "metadata": {},
   "outputs": [
    {
     "data": {
      "text/plain": [
       "Category\n",
       "clothes        4238\n",
       "shoes          1596\n",
       "paper           844\n",
       "biological      804\n",
       "battery         751\n",
       "cardboard       717\n",
       "plastic         685\n",
       "white-glass     630\n",
       "metal           601\n",
       "trash           571\n",
       "green-glass     498\n",
       "brown-glass     477\n",
       "Name: count, dtype: int64"
      ]
     },
     "execution_count": 15,
     "metadata": {},
     "output_type": "execute_result"
    }
   ],
   "source": [
    "train_df['Category'].value_counts()"
   ]
  },
  {
   "cell_type": "code",
   "execution_count": 16,
   "id": "ba92f0e7",
   "metadata": {},
   "outputs": [
    {
     "data": {
      "text/plain": [
       "Category\n",
       "clothes        548\n",
       "shoes          200\n",
       "biological     105\n",
       "plastic         92\n",
       "metal           89\n",
       "battery         87\n",
       "paper           86\n",
       "white-glass     77\n",
       "cardboard       76\n",
       "brown-glass     67\n",
       "green-glass     63\n",
       "trash           61\n",
       "Name: count, dtype: int64"
      ]
     },
     "execution_count": 16,
     "metadata": {},
     "output_type": "execute_result"
    }
   ],
   "source": [
    "validate_df['Category'].value_counts()"
   ]
  },
  {
   "cell_type": "code",
   "execution_count": 17,
   "id": "da3f707d",
   "metadata": {},
   "outputs": [
    {
     "data": {
      "text/plain": [
       "Category\n",
       "clothes        539\n",
       "shoes          181\n",
       "paper          120\n",
       "battery        107\n",
       "cardboard       98\n",
       "plastic         88\n",
       "metal           79\n",
       "biological      76\n",
       "white-glass     68\n",
       "green-glass     68\n",
       "trash           65\n",
       "brown-glass     63\n",
       "Name: count, dtype: int64"
      ]
     },
     "execution_count": 17,
     "metadata": {},
     "output_type": "execute_result"
    }
   ],
   "source": [
    "test_df['Category'].value_counts()"
   ]
  },
  {
   "cell_type": "markdown",
   "id": "cdeaeb16",
   "metadata": {},
   "source": [
    "### TO CSV"
   ]
  },
  {
   "cell_type": "code",
   "execution_count": 18,
   "id": "47af9c2b",
   "metadata": {},
   "outputs": [],
   "source": [
    "train_df.to_csv('train.csv', index=False)\n",
    "test_df.to_csv('test.csv',index=False)\n",
    "validate_df.to_csv('validation.csv',index=False)"
   ]
  },
  {
   "cell_type": "code",
   "execution_count": 19,
   "id": "6cce2079",
   "metadata": {},
   "outputs": [],
   "source": [
    "num_classes=12"
   ]
  },
  {
   "cell_type": "code",
   "execution_count": 20,
   "id": "6550cb10",
   "metadata": {},
   "outputs": [],
   "source": [
    "img_height = 224\n",
    "img_width = 224\n",
    "img_size=(img_width,img_height)"
   ]
  },
  {
   "cell_type": "code",
   "execution_count": 21,
   "id": "c5bdc950",
   "metadata": {},
   "outputs": [],
   "source": [
    "train_datagen = ImageDataGenerator(preprocessing_function=preprocess_input, validation_split=0.2)\n",
    "test_datagen = ImageDataGenerator(rescale=1.0/255.0)\n",
    "valid_datagen = ImageDataGenerator(rescale=1./255)"
   ]
  },
  {
   "cell_type": "code",
   "execution_count": 22,
   "id": "65dff750",
   "metadata": {},
   "outputs": [],
   "source": [
    "data_directory = \"garbage_classification/\""
   ]
  },
  {
   "cell_type": "code",
   "execution_count": 23,
   "id": "95c45057",
   "metadata": {},
   "outputs": [
    {
     "name": "stdout",
     "output_type": "stream",
     "text": [
      "Found 12412 validated image filenames belonging to 12 classes.\n"
     ]
    }
   ],
   "source": [
    "train_generator = train_datagen.flow_from_dataframe(\n",
    "    dataframe=train_df, \n",
    "    directory=data_directory, \n",
    "    x_col='Image',\n",
    "    y_col='Category',\n",
    "    target_size=img_size,\n",
    "    class_mode='categorical',\n",
    "    batch_size=32\n",
    ")"
   ]
  },
  {
   "cell_type": "code",
   "execution_count": 24,
   "id": "ec149eff",
   "metadata": {},
   "outputs": [
    {
     "name": "stdout",
     "output_type": "stream",
     "text": [
      "Found 1551 validated image filenames belonging to 12 classes.\n"
     ]
    }
   ],
   "source": [
    "validation_generator = train_datagen.flow_from_dataframe(\n",
    "    dataframe=validate_df,\n",
    "    directory=data_directory,\n",
    "    x_col='Image',\n",
    "    y_col='Category',\n",
    "    target_size=img_size,\n",
    "    class_mode='categorical',\n",
    "    batch_size=32)"
   ]
  },
  {
   "cell_type": "code",
   "execution_count": 25,
   "id": "d0c1b3bb",
   "metadata": {},
   "outputs": [
    {
     "name": "stdout",
     "output_type": "stream",
     "text": [
      "Found 1552 validated image filenames belonging to 12 classes.\n"
     ]
    }
   ],
   "source": [
    "test_generator = test_datagen.flow_from_dataframe(\n",
    "    dataframe=test_df,\n",
    "    directory=data_directory,\n",
    "    x_col='Image',\n",
    "    y_col='Category',\n",
    "    target_size=img_size,\n",
    "    class_mode='categorical',\n",
    "    batch_size=32\n",
    ")"
   ]
  },
  {
   "cell_type": "markdown",
   "id": "d895f565",
   "metadata": {},
   "source": [
    "# 1. model_0306_efficientnetB0"
   ]
  },
  {
   "cell_type": "code",
   "execution_count": 75,
   "id": "8176d9a0",
   "metadata": {},
   "outputs": [],
   "source": [
    "from datetime import datetime\n",
    "from tensorflow.keras.applications import EfficientNetB0\n",
    "from tensorflow.keras.layers import GlobalAveragePooling2D, Dense\n",
    "from tensorflow.keras.models import Model\n",
    "\n",
    "#model_0306_efficientnetB0\n",
    "\n",
    "def create_model(path, name, img_height, img_width, train_generator, validation_generator, epochs):\n",
    "    num_classes = 12\n",
    "\n",
    "    start = datetime.now()\n",
    "\n",
    "    # Crear el modelo base\n",
    "    base_model = EfficientNetB0(weights='imagenet', include_top=False, input_shape=(img_height, img_width, 3))\n",
    "    x = base_model.output\n",
    "    x = GlobalAveragePooling2D()(x)\n",
    "    x = Dense(512, activation='relu')(x)\n",
    "    predictions = Dense(num_classes, activation='softmax')(x)\n",
    "\n",
    "    # Definir el modelo final\n",
    "    model = Model(inputs=base_model.input, outputs=predictions)\n",
    "\n",
    "    # Congelar las capas del modelo base\n",
    "    for layer in base_model.layers:\n",
    "        layer.trainable = False\n",
    "\n",
    "    # Compilar el modelo\n",
    "    model.compile(optimizer='adam', loss='categorical_crossentropy', metrics=['accuracy'])\n",
    "\n",
    "    # Entrenar el modelo\n",
    "    history=model.fit(train_generator, epochs=epochs, validation_data=validation_generator)\n",
    "\n",
    "    try:\n",
    "        model.save(f\"{path}/{name}.h5\")\n",
    "    except:\n",
    "        print(\"Modelo no guardado\")\n",
    "\n",
    "    end = datetime.now()\n",
    "\n",
    "    print(f\"It took {end-start} time\")\n",
    "    \n",
    "    return history\n"
   ]
  },
  {
   "cell_type": "code",
   "execution_count": null,
   "id": "9b733a14",
   "metadata": {},
   "outputs": [
    {
     "name": "stdout",
     "output_type": "stream",
     "text": [
      " 45/388 [==>...........................] - ETA: 7:42 - loss: 0.6474 - accuracy: 0.8090"
     ]
    }
   ],
   "source": [
    "history=create_model(\".\", \"model_0306_efficientnetB0\", 224, 224, train_generator, validation_generator, epochs=1)"
   ]
  },
  {
   "cell_type": "code",
   "execution_count": 77,
   "id": "a4dc39a3",
   "metadata": {},
   "outputs": [
    {
     "ename": "NameError",
     "evalue": "name 'history' is not defined",
     "output_type": "error",
     "traceback": [
      "\u001b[1;31m---------------------------------------------------------------------------\u001b[0m",
      "\u001b[1;31mNameError\u001b[0m                                 Traceback (most recent call last)",
      "Cell \u001b[1;32mIn[77], line 5\u001b[0m\n\u001b[0;32m      3\u001b[0m epochs \u001b[38;5;241m=\u001b[39m \u001b[38;5;28mlist\u001b[39m(\u001b[38;5;28mrange\u001b[39m(\u001b[38;5;241m1\u001b[39m, \u001b[38;5;241m10\u001b[39m \u001b[38;5;241m+\u001b[39m \u001b[38;5;241m1\u001b[39m))\n\u001b[0;32m      4\u001b[0m fig, ax \u001b[38;5;241m=\u001b[39m plt\u001b[38;5;241m.\u001b[39msubplots(\u001b[38;5;241m1\u001b[39m, \u001b[38;5;241m2\u001b[39m)\n\u001b[1;32m----> 5\u001b[0m train_acc \u001b[38;5;241m=\u001b[39m \u001b[43mhistory\u001b[49m[\u001b[38;5;124m'\u001b[39m\u001b[38;5;124maccuracy\u001b[39m\u001b[38;5;124m'\u001b[39m]\n\u001b[0;32m      6\u001b[0m train_loss \u001b[38;5;241m=\u001b[39m history[\u001b[38;5;124m'\u001b[39m\u001b[38;5;124mloss\u001b[39m\u001b[38;5;124m'\u001b[39m]\n\u001b[0;32m      7\u001b[0m val_acc \u001b[38;5;241m=\u001b[39m history[\u001b[38;5;124m'\u001b[39m\u001b[38;5;124mval_accuracy\u001b[39m\u001b[38;5;124m'\u001b[39m]\n",
      "\u001b[1;31mNameError\u001b[0m: name 'history' is not defined"
     ]
    },
    {
     "data": {
      "image/png": "[encoded data removed]",
      "text/plain": [
       "<Figure size 640x480 with 2 Axes>"
      ]
     },
     "metadata": {},
     "output_type": "display_data"
    }
   ],
   "source": [
    "import matplotlib.pyplot as plt\n",
    "\n",
    "epochs = list(range(1, 10 + 1))\n",
    "fig, ax = plt.subplots(1, 2)\n",
    "train_acc = history['accuracy']\n",
    "train_loss = history['loss']\n",
    "val_acc = history['val_accuracy']\n",
    "val_loss = history['val_loss']\n",
    "\n",
    "fig.set_size_inches(20, 10)\n",
    "\n",
    "ax[0].plot(epochs, train_acc, 'go-', color='r', label='Training Accuracy')\n",
    "ax[0].plot(epochs, val_acc, 'go-', label='Validation Accuracy')\n",
    "ax[0].set_title('Training Accuracy')\n",
    "ax[0].legend()\n",
    "ax[0].set_xlabel(\"Epochs\")\n",
    "ax[0].set_ylabel(\"Accuracy\")\n",
    "\n",
    "ax[1].plot(epochs, train_loss, 'g-o', color='r', label='Training Loss')\n",
    "ax[1].plot(epochs, val_loss, 'go-', label='Validation Loss')\n",
    "ax[1].set_title('Training Loss')\n",
    "ax[1].legend()\n",
    "ax[1].set_xlabel(\"Epochs\")\n",
    "ax[1].set_ylabel(\"Training Loss\")\n",
    "plt.show()\n"
   ]
  },
  {
   "cell_type": "markdown",
   "id": "6b91ccab",
   "metadata": {},
   "source": [
    "# 1.1 Retrain model_0306_efficientnetB0"
   ]
  },
  {
   "cell_type": "code",
   "execution_count": 58,
   "id": "e444777d",
   "metadata": {},
   "outputs": [],
   "source": [
    "from tensorflow.keras.models import load_model\n",
    "from datetime import datetime\n",
    "\n",
    "def retrain_model(model_path, img_height, img_width, train_generator, validation_generator, epochs, save_path, save_name):\n",
    "    start = datetime.now()\n",
    "\n",
    "    # Cargar el modelo desde el archivo guardado\n",
    "    model = load_model(model_path)\n",
    "\n",
    "    # Compilar el modelo\n",
    "    model.compile(optimizer='adam', loss='categorical_crossentropy', metrics=['accuracy'])\n",
    "\n",
    "    # Entrenar el modelo\n",
    "    history=model.fit(train_generator, epochs=epochs, validation_data=validation_generator)\n",
    "\n",
    "    # Guardar el modelo una vez finalizado el entrenamiento\n",
    "    try:\n",
    "        model.save(f\"{save_path}/{save_name}.h5\")\n",
    "        print(\"Modelo guardado correctamente.\")\n",
    "    except:\n",
    "        print(\"Error al guardar el modelo.\")\n",
    "\n",
    "    end = datetime.now()\n",
    "    print(f\"Tiempo de entrenamiento: {end-start}\")\n"
   ]
  },
  {
   "cell_type": "code",
   "execution_count": 59,
   "id": "cd4d4555",
   "metadata": {},
   "outputs": [
    {
     "name": "stdout",
     "output_type": "stream",
     "text": [
      "Epoch 1/10\n",
      "388/388 [==============================] - 590s 2s/step - loss: 0.0886 - accuracy: 0.9704 - val_loss: 0.1557 - val_accuracy: 0.9516\n",
      "Epoch 2/10\n",
      "388/388 [==============================] - 619s 2s/step - loss: 0.0447 - accuracy: 0.9850 - val_loss: 0.1527 - val_accuracy: 0.9613\n",
      "Epoch 3/10\n",
      "388/388 [==============================] - 580s 1s/step - loss: 0.0241 - accuracy: 0.9927 - val_loss: 0.1525 - val_accuracy: 0.9632\n",
      "Epoch 4/10\n",
      "388/388 [==============================] - 577s 1s/step - loss: 0.0155 - accuracy: 0.9952 - val_loss: 0.1848 - val_accuracy: 0.9542\n",
      "Epoch 5/10\n",
      "388/388 [==============================] - 606s 2s/step - loss: 0.0196 - accuracy: 0.9930 - val_loss: 0.1913 - val_accuracy: 0.9587\n",
      "Epoch 6/10\n",
      "388/388 [==============================] - 603s 2s/step - loss: 0.0193 - accuracy: 0.9929 - val_loss: 0.1916 - val_accuracy: 0.9613\n",
      "Epoch 7/10\n",
      "388/388 [==============================] - 588s 2s/step - loss: 0.0174 - accuracy: 0.9942 - val_loss: 0.1826 - val_accuracy: 0.9562\n",
      "Epoch 8/10\n",
      "388/388 [==============================] - 625s 2s/step - loss: 0.0103 - accuracy: 0.9961 - val_loss: 0.1967 - val_accuracy: 0.9594\n",
      "Epoch 9/10\n",
      "388/388 [==============================] - 585s 2s/step - loss: 0.0068 - accuracy: 0.9982 - val_loss: 0.2221 - val_accuracy: 0.9549\n",
      "Epoch 10/10\n",
      "388/388 [==============================] - 585s 2s/step - loss: 0.0243 - accuracy: 0.9919 - val_loss: 0.2505 - val_accuracy: 0.9504\n",
      "Modelo guardado correctamente.\n",
      "Tiempo de entrenamiento: 1:39:19.555326\n"
     ]
    }
   ],
   "source": [
    "retrain_model(\"model_0306_efficientnetB0.h5\", 224, 224, train_generator, validation_generator, epochs=10, save_path=\".\", save_name=\"model_0306_efficientnetB0_retrain1\")"
   ]
  },
  {
   "cell_type": "code",
   "execution_count": null,
   "id": "9d15ffcb",
   "metadata": {},
   "outputs": [],
   "source": [
    "epochs = list(range(len(history.history['accuracy'])))\n",
    "fig , ax = plt.subplots(1,2)\n",
    "train_acc = history.history['accuracy']\n",
    "train_loss = history.history['loss']\n",
    "val_acc = history.history['val_accuracy']\n",
    "val_loss = history.history['val_loss']\n",
    "\n",
    "fig.set_size_inches(20,10)\n",
    "\n",
    "ax[0].plot(epochs , train_acc , 'go-' ,color='r', label = 'Training Accuracy')\n",
    "ax[0].plot(epochs , val_acc , 'go-' , label = 'Validation Accuracy')\n",
    "ax[0].set_title('Training Accuracy')\n",
    "ax[0].legend()\n",
    "ax[0].set_xlabel(\"Epochs\")\n",
    "ax[0].set_ylabel(\"Accuracy\")\n",
    "\n",
    "\n",
    "ax[1].plot(epochs , train_loss , 'g-o' ,color='r', label = 'Training Loss')\n",
    "ax[1].plot(epochs , val_loss , 'go-' , label = 'Validation Loss')\n",
    "ax[1].set_title('Training Loss')\n",
    "ax[1].legend()\n",
    "ax[1].set_xlabel(\"Epochs\")\n",
    "ax[1].set_ylabel(\"Training Loss\")\n",
    "plt.show()"
   ]
  },
  {
   "cell_type": "markdown",
   "id": "c5d402f1",
   "metadata": {},
   "source": [
    "# 2. model_0306_efficientnetB0 V2 + FINE+TUNNING"
   ]
  },
  {
   "cell_type": "code",
   "execution_count": 48,
   "id": "6fd6600b",
   "metadata": {},
   "outputs": [],
   "source": [
    "from datetime import datetime\n",
    "from tensorflow.keras.applications import EfficientNetB0\n",
    "from tensorflow.keras.layers import GlobalAveragePooling2D, Dense\n",
    "from tensorflow.keras.models import Model\n",
    "from tensorflow.keras.preprocessing.image import ImageDataGenerator\n",
    "\n",
    "#model_0306_efficientnetB0.v2\n",
    "\n",
    "def create_model(path, name, img_height, img_width, train_generator, validation_generator, epochs, fine_tuning=False, data_augmentation=False):\n",
    "    num_classes = 12\n",
    "\n",
    "    start = datetime.now()\n",
    "\n",
    "    # Crear el modelo base\n",
    "    base_model = EfficientNetB0(weights='imagenet', include_top=False, input_shape=(img_height, img_width, 3))\n",
    "    x = base_model.output\n",
    "    x = GlobalAveragePooling2D()(x)\n",
    "    x = Dense(512, activation='relu')(x)\n",
    "    predictions = Dense(num_classes, activation='softmax')(x)\n",
    "\n",
    "    # Definir el modelo final\n",
    "    model = Model(inputs=base_model.input, outputs=predictions)\n",
    "\n",
    "    # Congelar las capas del modelo base\n",
    "    for layer in base_model.layers:\n",
    "        layer.trainable = False\n",
    "\n",
    "    # Compilar el modelo\n",
    "    model.compile(optimizer='adam', loss='categorical_crossentropy', metrics=['accuracy'])\n",
    "\n",
    "    # Entrenar el modelo\n",
    "    if data_augmentation:\n",
    "        # Aplicar data augmentation durante el entrenamiento\n",
    "        train_datagen = ImageDataGenerator(\n",
    "            rotation_range=10,\n",
    "            width_shift_range=0.1,\n",
    "            height_shift_range=0.1,\n",
    "            shear_range=0.2,\n",
    "            zoom_range=0.2,\n",
    "            horizontal_flip=True,\n",
    "            vertical_flip=True\n",
    "        )\n",
    "        train_generator = train_datagen.flow_from_dataframe(\n",
    "            dataframe=train_df,\n",
    "            directory=data_directory,\n",
    "            x_col='Image',\n",
    "            y_col='Category',\n",
    "            target_size=(img_height, img_width),\n",
    "            class_mode='categorical',\n",
    "            batch_size=32\n",
    "        )\n",
    "\n",
    "    if fine_tuning:\n",
    "        # Descongelar las últimas capas del modelo base para el ajuste fino\n",
    "        for layer in base_model.layers[-20:]:\n",
    "            layer.trainable = True\n",
    "\n",
    "    history=model.fit(train_generator, epochs=epochs, validation_data=validation_generator)\n",
    "\n",
    "    try:\n",
    "        model.save(f\"{path}/{name}.h5\")\n",
    "    except:\n",
    "        print(\"Modelo no guardado\")\n",
    "\n",
    "    end = datetime.now()\n",
    "\n",
    "    print(f\"It took {end-start} time\")\n"
   ]
  },
  {
   "cell_type": "code",
   "execution_count": 50,
   "id": "8439bcde",
   "metadata": {},
   "outputs": [
    {
     "name": "stdout",
     "output_type": "stream",
     "text": [
      "Epoch 1/2\n",
      "388/388 [==============================] - 577s 1s/step - loss: 0.2259 - accuracy: 0.9307 - val_loss: 0.1610 - val_accuracy: 0.9484\n",
      "Epoch 2/2\n",
      "388/388 [==============================] - 596s 2s/step - loss: 0.0716 - accuracy: 0.9766 - val_loss: 0.1711 - val_accuracy: 0.9562\n",
      "It took 0:19:34.726723 time\n"
     ]
    }
   ],
   "source": [
    "create_model(\".\", \"model_0306_efficientnetB0v2.h5\", 224, 224, train_generator, validation_generator, epochs=2)"
   ]
  },
  {
   "cell_type": "markdown",
   "id": "a6674616",
   "metadata": {},
   "source": [
    "# RESNET50"
   ]
  },
  {
   "cell_type": "code",
   "execution_count": null,
   "id": "05c0d41d",
   "metadata": {},
   "outputs": [],
   "source": [
    "from datetime import datetime\n",
    "from tensorflow.keras.applications import ResNet50\n",
    "from tensorflow.keras.layers import GlobalAveragePooling2D, Dense\n",
    "from tensorflow.keras.models import Model\n",
    "\n",
    "def create_model(path, name, img_height, img_width, train_generator, validation_generator, epochs):\n",
    "    num_classes = 12\n",
    "\n",
    "    start = datetime.now()\n",
    "\n",
    "    # Crear el modelo base\n",
    "    base_model = ResNet50(weights='imagenet', include_top=False, input_shape=(img_height, img_width, 3))\n",
    "    x = base_model.output\n",
    "    x = GlobalAveragePooling2D()(x)\n",
    "    x = Dense(512, activation='relu')(x)\n",
    "    predictions = Dense(num_classes, activation='softmax')(x)\n",
    "\n",
    "    # Definir el modelo final\n",
    "    model = Model(inputs=base_model.input, outputs=predictions)\n",
    "\n",
    "    # Congelar las capas del modelo base\n",
    "    for layer in base_model.layers:\n",
    "        layer.trainable = False\n",
    "\n",
    "    # Compilar el modelo\n",
    "    model.compile(optimizer='adam', loss='categorical_crossentropy', metrics=['accuracy'])\n",
    "\n",
    "    # Entrenar el modelo\n",
    "    history = model.fit(train_generator, epochs=epochs, validation_data=validation_generator)\n",
    "\n",
    "    try:\n",
    "        model.save(f\"{path}/{name}.h5\")\n",
    "    except:\n",
    "        print(\"Modelo no guardado\")\n",
    "\n",
    "    end = datetime.now()\n",
    "    print(f\"It took {end-start} time\")\n",
    "\n",
    "    return history\n"
   ]
  },
  {
   "cell_type": "markdown",
   "id": "a74dc97c",
   "metadata": {},
   "source": [
    "# PREDICTIONS"
   ]
  },
  {
   "cell_type": "markdown",
   "id": "57455150",
   "metadata": {},
   "source": [
    "1. Prediction model_0306_efficientnetB0 INITIAL VERSION\n",
    "2. Prediction model_0306_efficientnetB0 TRENAINED\n",
    "3. Prediction model_0306_efficientnetB0 v2 + fine tunning"
   ]
  },
  {
   "cell_type": "markdown",
   "id": "88688822",
   "metadata": {},
   "source": [
    "# 1. Prediction model_0306_efficientnetB0"
   ]
  },
  {
   "cell_type": "code",
   "execution_count": 41,
   "id": "160a9071",
   "metadata": {},
   "outputs": [],
   "source": [
    "from tensorflow.keras.models import load_model\n",
    "model = load_model(\"model_0306_efficientnetB0.h5\")"
   ]
  },
  {
   "cell_type": "markdown",
   "id": "05bf283a",
   "metadata": {},
   "source": [
    "Cardboard prediction"
   ]
  },
  {
   "cell_type": "code",
   "execution_count": 43,
   "id": "894a0062",
   "metadata": {},
   "outputs": [
    {
     "name": "stdout",
     "output_type": "stream",
     "text": [
      "1/1 [==============================] - 1s 799ms/step\n",
      "Confianza (%): 22.29856848716736\n",
      "La imagen es: 8\n",
      "La imagen es: plastic\n",
      "[[0.0977457  0.01822413 0.06794209 0.13780573 0.02394277 0.07599938\n",
      "  0.05021247 0.0256495  0.22298568 0.04322841 0.04679032 0.18947382]]\n"
     ]
    }
   ],
   "source": [
    "import numpy as np\n",
    "from PIL import Image\n",
    "\n",
    "# Ruta de la imagen en tu ordenador\n",
    "image_path = r\"C:\\Users\\Leticia Martinez\\Desktop\\IRONHACK\\Labs\\Project_V\\photo_test\\cardboard1.jpg\"\n",
    "\n",
    "# Cargar la imagen en color\n",
    "image = Image.open(image_path).convert('RGB')\n",
    "\n",
    "# Redimensionar la imagen a las dimensiones requeridas por el modelo\n",
    "img_width, img_height = 224, 224  # Usar las dimensiones adecuadas para tu modelo\n",
    "image = image.resize((img_width, img_height))\n",
    "\n",
    "# Convertir la imagen en un arreglo numpy\n",
    "image_array = np.array(image)\n",
    "\n",
    "# Añadir una dimensión adicional para el batch\n",
    "image_array = np.expand_dims(image_array, axis=0)\n",
    "\n",
    "# Preprocesar la imagen (normalización, etc.) de acuerdo con el modelo\n",
    "image_array = image_array.astype('float32')\n",
    "image_array /= 255\n",
    "\n",
    "predictions = model.predict(image_array)\n",
    "predicted_class = np.argmax(predictions)\n",
    "confidence = np.max(predictions) * 100\n",
    "\n",
    "print(\"Confianza (%):\", confidence)\n",
    "\n",
    "print(\"La imagen es:\", predicted_class)\n",
    "class_labels = ['battery', 'biological', 'brown-glass', 'cardboard', 'clothes', 'green-glass', 'metal', 'paper', 'plastic', 'shoes', 'trash', 'white-glass']\n",
    "\n",
    "predicted_label = class_labels[predicted_class]\n",
    "print('La imagen es:', predicted_label)\n",
    "print(predictions)"
   ]
  },
  {
   "cell_type": "markdown",
   "id": "a0b1ad6a",
   "metadata": {},
   "source": [
    "Clothes prediction"
   ]
  },
  {
   "cell_type": "code",
   "execution_count": 44,
   "id": "69e1e852",
   "metadata": {},
   "outputs": [
    {
     "name": "stdout",
     "output_type": "stream",
     "text": [
      "1/1 [==============================] - 0s 63ms/step\n",
      "Confianza (%): 22.076191008090973\n",
      "La imagen es: 8\n",
      "La imagen es: plastic\n",
      "[[0.0985826  0.01801476 0.06834672 0.13927701 0.02328959 0.07531924\n",
      "  0.05061185 0.02567274 0.22076191 0.04325297 0.04735589 0.18951473]]\n"
     ]
    }
   ],
   "source": [
    "import numpy as np\n",
    "from PIL import Image\n",
    "\n",
    "# Ruta de la imagen en tu ordenador\n",
    "image_path = r\"C:\\Users\\Leticia Martinez\\Desktop\\IRONHACK\\Labs\\Project_V\\photo_test\\clothes4.jpg\"\n",
    "\n",
    "# Cargar la imagen en color\n",
    "image = Image.open(image_path).convert('RGB')\n",
    "\n",
    "# Redimensionar la imagen a las dimensiones requeridas por el modelo\n",
    "img_width, img_height = 224, 224  # Usar las dimensiones adecuadas para tu modelo\n",
    "image = image.resize((img_width, img_height))\n",
    "\n",
    "# Convertir la imagen en un arreglo numpy\n",
    "image_array = np.array(image)\n",
    "\n",
    "# Añadir una dimensión adicional para el batch\n",
    "image_array = np.expand_dims(image_array, axis=0)\n",
    "\n",
    "# Preprocesar la imagen (normalización, etc.) de acuerdo con el modelo\n",
    "image_array = image_array.astype('float32')\n",
    "image_array /= 255\n",
    "\n",
    "predictions = model.predict(image_array)\n",
    "predicted_class = np.argmax(predictions)\n",
    "confidence = np.max(predictions) * 100\n",
    "\n",
    "print(\"Confianza (%):\", confidence)\n",
    "\n",
    "print(\"La imagen es:\", predicted_class)\n",
    "class_labels = ['battery', 'biological', 'brown-glass', 'cardboard', 'clothes', 'green-glass', 'metal', 'paper', 'plastic', 'shoes', 'trash', 'white-glass']\n",
    "\n",
    "predicted_label = class_labels[predicted_class]\n",
    "print('La imagen es:', predicted_label)\n",
    "print(predictions)"
   ]
  },
  {
   "cell_type": "code",
   "execution_count": null,
   "id": "133e44f4",
   "metadata": {},
   "outputs": [],
   "source": [
    "Plastic prediction"
   ]
  },
  {
   "cell_type": "code",
   "execution_count": 46,
   "id": "33f1a1a4",
   "metadata": {
    "scrolled": true
   },
   "outputs": [
    {
     "name": "stdout",
     "output_type": "stream",
     "text": [
      "1/1 [==============================] - 0s 51ms/step\n",
      "Confianza (%): 22.18020111322403\n",
      "La imagen es: 8\n",
      "La imagen es: plastic\n",
      "[[0.09863587 0.01780101 0.06843559 0.13816716 0.02324804 0.07571573\n",
      "  0.05064634 0.0255187  0.22180201 0.04312144 0.04701281 0.18989532]]\n"
     ]
    }
   ],
   "source": [
    "import numpy as np\n",
    "from PIL import Image\n",
    "\n",
    "# Ruta de la imagen en tu ordenador\n",
    "image_path = r\"C:\\Users\\Leticia Martinez\\Desktop\\IRONHACK\\Labs\\Project_V\\photo_test\\plastic3.jpg\"\n",
    "\n",
    "# Cargar la imagen en color\n",
    "image = Image.open(image_path).convert('RGB')\n",
    "\n",
    "# Redimensionar la imagen a las dimensiones requeridas por el modelo\n",
    "img_width, img_height = 224, 224  # Usar las dimensiones adecuadas para tu modelo\n",
    "image = image.resize((img_width, img_height))\n",
    "\n",
    "# Convertir la imagen en un arreglo numpy\n",
    "image_array = np.array(image)\n",
    "\n",
    "# Añadir una dimensión adicional para el batch\n",
    "image_array = np.expand_dims(image_array, axis=0)\n",
    "\n",
    "# Preprocesar la imagen (normalización, etc.) de acuerdo con el modelo\n",
    "image_array = image_array.astype('float32')\n",
    "image_array /= 255\n",
    "\n",
    "predictions = model.predict(image_array)\n",
    "predicted_class = np.argmax(predictions)\n",
    "confidence = np.max(predictions) * 100\n",
    "\n",
    "print(\"Confianza (%):\", confidence)\n",
    "\n",
    "print(\"La imagen es:\", predicted_class)\n",
    "class_labels = ['battery', 'biological', 'brown-glass', 'cardboard', 'clothes', 'green-glass', 'metal', 'paper', 'plastic', 'shoes', 'trash', 'white-glass']\n",
    "\n",
    "predicted_label = class_labels[predicted_class]\n",
    "print('La imagen es:', predicted_label)\n",
    "print(predictions)"
   ]
  },
  {
   "cell_type": "markdown",
   "id": "71985251",
   "metadata": {},
   "source": [
    "# 2. Prediction model_0306_efficientnetB0 RE-TRAINED"
   ]
  },
  {
   "cell_type": "code",
   "execution_count": 61,
   "id": "da66ed2b",
   "metadata": {},
   "outputs": [],
   "source": [
    "from tensorflow.keras.models import load_model\n",
    "model_re = load_model(\"model_0306_efficientnetB0_retrain1.h5\")"
   ]
  },
  {
   "cell_type": "markdown",
   "id": "671b7301",
   "metadata": {},
   "source": [
    "Cardboard prediction"
   ]
  },
  {
   "cell_type": "code",
   "execution_count": 63,
   "id": "8de878c7",
   "metadata": {},
   "outputs": [
    {
     "name": "stdout",
     "output_type": "stream",
     "text": [
      "1/1 [==============================] - 0s 54ms/step\n",
      "Confianza (%): 61.84994578361511\n",
      "La imagen es: 8\n",
      "La imagen es: plastic\n",
      "[[3.55317220e-02 7.90315680e-05 2.86725000e-04 1.13074845e-02\n",
      "  1.43049892e-05 1.12471702e-02 2.95381087e-05 2.57319207e-05\n",
      "  6.18499458e-01 1.97430491e-05 3.01908404e-01 2.10507307e-02]]\n"
     ]
    }
   ],
   "source": [
    "import numpy as np\n",
    "from PIL import Image\n",
    "\n",
    "# Ruta de la imagen en tu ordenador\n",
    "image_path = r\"C:\\Users\\Leticia Martinez\\Desktop\\IRONHACK\\Labs\\Project_V\\photo_test\\cardboard1.jpg\"\n",
    "\n",
    "# Cargar la imagen en color\n",
    "image = Image.open(image_path).convert('RGB')\n",
    "\n",
    "# Redimensionar la imagen a las dimensiones requeridas por el modelo\n",
    "img_width, img_height = 224, 224  # Usar las dimensiones adecuadas para tu modelo\n",
    "image = image.resize((img_width, img_height))\n",
    "\n",
    "# Convertir la imagen en un arreglo numpy\n",
    "image_array = np.array(image)\n",
    "\n",
    "# Añadir una dimensión adicional para el batch\n",
    "image_array = np.expand_dims(image_array, axis=0)\n",
    "\n",
    "# Preprocesar la imagen (normalización, etc.) de acuerdo con el modelo\n",
    "image_array = image_array.astype('float32')\n",
    "image_array /= 255\n",
    "\n",
    "predictions = model_re.predict(image_array)\n",
    "predicted_class = np.argmax(predictions)\n",
    "confidence = np.max(predictions) * 100\n",
    "\n",
    "print(\"Confianza (%):\", confidence)\n",
    "\n",
    "print(\"La imagen es:\", predicted_class)\n",
    "class_labels = ['battery', 'biological', 'brown-glass', 'cardboard', 'clothes', 'green-glass', 'metal', 'paper', 'plastic', 'shoes', 'trash', 'white-glass']\n",
    "\n",
    "predicted_label = class_labels[predicted_class]\n",
    "print('La imagen es:', predicted_label)\n",
    "print(predictions)"
   ]
  },
  {
   "cell_type": "markdown",
   "id": "4d838e19",
   "metadata": {},
   "source": [
    "Clothes prediction"
   ]
  },
  {
   "cell_type": "code",
   "execution_count": 66,
   "id": "93cd2266",
   "metadata": {},
   "outputs": [
    {
     "name": "stdout",
     "output_type": "stream",
     "text": [
      "1/1 [==============================] - 0s 53ms/step\n",
      "Confianza (%): 60.5488657951355\n",
      "La imagen es: 8\n",
      "La imagen es: plastic\n",
      "[[3.7629820e-02 7.8805992e-05 3.0195367e-04 1.2075156e-02 1.3901715e-05\n",
      "  1.1129593e-02 3.1575331e-05 2.6693622e-05 6.0548866e-01 2.0411780e-05\n",
      "  3.1134942e-01 2.1853948e-02]]\n"
     ]
    }
   ],
   "source": [
    "import numpy as np\n",
    "from PIL import Image\n",
    "\n",
    "# Ruta de la imagen en tu ordenador\n",
    "image_path = r\"C:\\Users\\Leticia Martinez\\Desktop\\IRONHACK\\Labs\\Project_V\\photo_test\\clothes4.jpg\"\n",
    "\n",
    "# Cargar la imagen en color\n",
    "image = Image.open(image_path).convert('RGB')\n",
    "\n",
    "# Redimensionar la imagen a las dimensiones requeridas por el modelo\n",
    "img_width, img_height = 224, 224  # Usar las dimensiones adecuadas para tu modelo\n",
    "image = image.resize((img_width, img_height))\n",
    "\n",
    "# Convertir la imagen en un arreglo numpy\n",
    "image_array = np.array(image)\n",
    "\n",
    "# Añadir una dimensión adicional para el batch\n",
    "image_array = np.expand_dims(image_array, axis=0)\n",
    "\n",
    "# Preprocesar la imagen (normalización, etc.) de acuerdo con el modelo\n",
    "image_array = image_array.astype('float32')\n",
    "image_array /= 255\n",
    "\n",
    "predictions = model_re.predict(image_array)\n",
    "predicted_class = np.argmax(predictions)\n",
    "confidence = np.max(predictions) * 100\n",
    "\n",
    "print(\"Confianza (%):\", confidence)\n",
    "\n",
    "print(\"La imagen es:\", predicted_class)\n",
    "class_labels = ['battery', 'biological', 'brown-glass', 'cardboard', 'clothes', 'green-glass', 'metal', 'paper', 'plastic', 'shoes', 'trash', 'white-glass']\n",
    "\n",
    "predicted_label = class_labels[predicted_class]\n",
    "print('La imagen es:', predicted_label)\n",
    "print(predictions)"
   ]
  },
  {
   "cell_type": "code",
   "execution_count": null,
   "id": "e6ee60b7",
   "metadata": {},
   "outputs": [],
   "source": [
    "Plastic prediction"
   ]
  },
  {
   "cell_type": "code",
   "execution_count": 65,
   "id": "b7830b5d",
   "metadata": {
    "scrolled": true
   },
   "outputs": [
    {
     "name": "stdout",
     "output_type": "stream",
     "text": [
      "1/1 [==============================] - 0s 49ms/step\n",
      "Confianza (%): 61.24998927116394\n",
      "La imagen es: 8\n",
      "La imagen es: plastic\n",
      "[[3.7547827e-02 7.5313983e-05 2.9978697e-04 1.1752524e-02 1.3750690e-05\n",
      "  1.1082111e-02 3.1653788e-05 2.6112548e-05 6.1249989e-01 2.0201704e-05\n",
      "  3.0476332e-01 2.1887485e-02]]\n"
     ]
    }
   ],
   "source": [
    "import numpy as np\n",
    "from PIL import Image\n",
    "\n",
    "# Ruta de la imagen en tu ordenador\n",
    "image_path = r\"C:\\Users\\Leticia Martinez\\Desktop\\IRONHACK\\Labs\\Project_V\\photo_test\\plastic3.jpg\"\n",
    "\n",
    "# Cargar la imagen en color\n",
    "image = Image.open(image_path).convert('RGB')\n",
    "\n",
    "# Redimensionar la imagen a las dimensiones requeridas por el modelo\n",
    "img_width, img_height = 224, 224  # Usar las dimensiones adecuadas para tu modelo\n",
    "image = image.resize((img_width, img_height))\n",
    "\n",
    "# Convertir la imagen en un arreglo numpy\n",
    "image_array = np.array(image)\n",
    "\n",
    "# Añadir una dimensión adicional para el batch\n",
    "image_array = np.expand_dims(image_array, axis=0)\n",
    "\n",
    "# Preprocesar la imagen (normalización, etc.) de acuerdo con el modelo\n",
    "image_array = image_array.astype('float32')\n",
    "image_array /= 255\n",
    "\n",
    "predictions = model_re.predict(image_array)\n",
    "predicted_class = np.argmax(predictions)\n",
    "confidence = np.max(predictions) * 100\n",
    "\n",
    "print(\"Confianza (%):\", confidence)\n",
    "\n",
    "print(\"La imagen es:\", predicted_class)\n",
    "class_labels = ['battery', 'biological', 'brown-glass', 'cardboard', 'clothes', 'green-glass', 'metal', 'paper', 'plastic', 'shoes', 'trash', 'white-glass']\n",
    "\n",
    "predicted_label = class_labels[predicted_class]\n",
    "print('La imagen es:', predicted_label)\n",
    "print(predictions)"
   ]
  },
  {
   "cell_type": "markdown",
   "id": "28fe2e69",
   "metadata": {},
   "source": [
    "# 3. Prediction model_0306_efficientnetB0 v2 + fine tunning"
   ]
  },
  {
   "cell_type": "code",
   "execution_count": 54,
   "id": "847918d2",
   "metadata": {},
   "outputs": [],
   "source": [
    "from tensorflow.keras.models import load_model\n",
    "model = load_model(\"model_0306_efficientnetB0v2.h5.h5\")"
   ]
  },
  {
   "cell_type": "markdown",
   "id": "fc3f93d8",
   "metadata": {},
   "source": [
    "Cardboard prediction"
   ]
  },
  {
   "cell_type": "code",
   "execution_count": 55,
   "id": "ca55649a",
   "metadata": {},
   "outputs": [
    {
     "name": "stdout",
     "output_type": "stream",
     "text": [
      "1/1 [==============================] - 1s 789ms/step\n",
      "Confianza (%): 23.227618634700775\n",
      "La imagen es: 10\n",
      "La imagen es: trash\n",
      "[[0.03479067 0.01096367 0.02473339 0.13694571 0.00771833 0.15003772\n",
      "  0.01777375 0.01272381 0.17304362 0.01811986 0.23227619 0.18087327]]\n"
     ]
    }
   ],
   "source": [
    "import numpy as np\n",
    "from PIL import Image\n",
    "\n",
    "# Ruta de la imagen en tu ordenador\n",
    "image_path = r\"C:\\Users\\Leticia Martinez\\Desktop\\IRONHACK\\Labs\\Project_V\\photo_test\\cardboard1.jpg\"\n",
    "\n",
    "# Cargar la imagen en color\n",
    "image = Image.open(image_path).convert('RGB')\n",
    "\n",
    "# Redimensionar la imagen a las dimensiones requeridas por el modelo\n",
    "img_width, img_height = 224, 224  # Usar las dimensiones adecuadas para tu modelo\n",
    "image = image.resize((img_width, img_height))\n",
    "\n",
    "# Convertir la imagen en un arreglo numpy\n",
    "image_array = np.array(image)\n",
    "\n",
    "# Añadir una dimensión adicional para el batch\n",
    "image_array = np.expand_dims(image_array, axis=0)\n",
    "\n",
    "# Preprocesar la imagen (normalización, etc.) de acuerdo con el modelo\n",
    "image_array = image_array.astype('float32')\n",
    "image_array /= 255\n",
    "\n",
    "predictions = model.predict(image_array)\n",
    "predicted_class = np.argmax(predictions)\n",
    "confidence = np.max(predictions) * 100\n",
    "\n",
    "print(\"Confianza (%):\", confidence)\n",
    "\n",
    "print(\"La imagen es:\", predicted_class)\n",
    "class_labels = ['battery', 'biological', 'brown-glass', 'cardboard', 'clothes', 'green-glass', 'metal', 'paper', 'plastic', 'shoes', 'trash', 'white-glass']\n",
    "\n",
    "predicted_label = class_labels[predicted_class]\n",
    "print('La imagen es:', predicted_label)\n",
    "print(predictions)"
   ]
  },
  {
   "cell_type": "markdown",
   "id": "b923af80",
   "metadata": {},
   "source": [
    "Clothes prediction"
   ]
  },
  {
   "cell_type": "code",
   "execution_count": 56,
   "id": "f488236f",
   "metadata": {},
   "outputs": [
    {
     "name": "stdout",
     "output_type": "stream",
     "text": [
      "1/1 [==============================] - 0s 47ms/step\n",
      "Confianza (%): 23.16683679819107\n",
      "La imagen es: 10\n",
      "La imagen es: trash\n",
      "[[0.03537419 0.01083573 0.02458145 0.1377377  0.0075525  0.14871559\n",
      "  0.01766006 0.01275216 0.17369632 0.01840163 0.23166837 0.18102431]]\n"
     ]
    }
   ],
   "source": [
    "import numpy as np\n",
    "from PIL import Image\n",
    "\n",
    "# Ruta de la imagen en tu ordenador\n",
    "image_path = r\"C:\\Users\\Leticia Martinez\\Desktop\\IRONHACK\\Labs\\Project_V\\photo_test\\clothes4.jpg\"\n",
    "\n",
    "# Cargar la imagen en color\n",
    "image = Image.open(image_path).convert('RGB')\n",
    "\n",
    "# Redimensionar la imagen a las dimensiones requeridas por el modelo\n",
    "img_width, img_height = 224, 224  # Usar las dimensiones adecuadas para tu modelo\n",
    "image = image.resize((img_width, img_height))\n",
    "\n",
    "# Convertir la imagen en un arreglo numpy\n",
    "image_array = np.array(image)\n",
    "\n",
    "# Añadir una dimensión adicional para el batch\n",
    "image_array = np.expand_dims(image_array, axis=0)\n",
    "\n",
    "# Preprocesar la imagen (normalización, etc.) de acuerdo con el modelo\n",
    "image_array = image_array.astype('float32')\n",
    "image_array /= 255\n",
    "\n",
    "predictions = model.predict(image_array)\n",
    "predicted_class = np.argmax(predictions)\n",
    "confidence = np.max(predictions) * 100\n",
    "\n",
    "print(\"Confianza (%):\", confidence)\n",
    "\n",
    "print(\"La imagen es:\", predicted_class)\n",
    "class_labels = ['battery', 'biological', 'brown-glass', 'cardboard', 'clothes', 'green-glass', 'metal', 'paper', 'plastic', 'shoes', 'trash', 'white-glass']\n",
    "\n",
    "predicted_label = class_labels[predicted_class]\n",
    "print('La imagen es:', predicted_label)\n",
    "print(predictions)"
   ]
  },
  {
   "cell_type": "markdown",
   "id": "ca26f187",
   "metadata": {},
   "source": [
    "Plastisc prediction"
   ]
  },
  {
   "cell_type": "code",
   "execution_count": 57,
   "id": "f6bcdb2f",
   "metadata": {
    "scrolled": true
   },
   "outputs": [
    {
     "name": "stdout",
     "output_type": "stream",
     "text": [
      "1/1 [==============================] - 0s 54ms/step\n",
      "Confianza (%): 23.057889938354492\n",
      "La imagen es: 10\n",
      "La imagen es: trash\n",
      "[[0.03521813 0.0106923  0.02449142 0.13761519 0.00754191 0.14961974\n",
      "  0.01771424 0.01274806 0.17468114 0.01835035 0.2305789  0.18074863]]\n"
     ]
    }
   ],
   "source": [
    "import numpy as np\n",
    "from PIL import Image\n",
    "\n",
    "# Ruta de la imagen en tu ordenador\n",
    "image_path = r\"C:\\Users\\Leticia Martinez\\Desktop\\IRONHACK\\Labs\\Project_V\\photo_test\\plastic3.jpg\"\n",
    "\n",
    "# Cargar la imagen en color\n",
    "image = Image.open(image_path).convert('RGB')\n",
    "\n",
    "# Redimensionar la imagen a las dimensiones requeridas por el modelo\n",
    "img_width, img_height = 224, 224  # Usar las dimensiones adecuadas para tu modelo\n",
    "image = image.resize((img_width, img_height))\n",
    "\n",
    "# Convertir la imagen en un arreglo numpy\n",
    "image_array = np.array(image)\n",
    "\n",
    "# Añadir una dimensión adicional para el batch\n",
    "image_array = np.expand_dims(image_array, axis=0)\n",
    "\n",
    "# Preprocesar la imagen (normalización, etc.) de acuerdo con el modelo\n",
    "image_array = image_array.astype('float32')\n",
    "image_array /= 255\n",
    "\n",
    "predictions = model.predict(image_array)\n",
    "predicted_class = np.argmax(predictions)\n",
    "confidence = np.max(predictions) * 100\n",
    "\n",
    "print(\"Confianza (%):\", confidence)\n",
    "\n",
    "print(\"La imagen es:\", predicted_class)\n",
    "class_labels = ['battery', 'biological', 'brown-glass', 'cardboard', 'clothes', 'green-glass', 'metal', 'paper', 'plastic', 'shoes', 'trash', 'white-glass']\n",
    "\n",
    "predicted_label = class_labels[predicted_class]\n",
    "print('La imagen es:', predicted_label)\n",
    "print(predictions)"
   ]
  },
  {
   "cell_type": "code",
   "execution_count": null,
   "id": "f45e5103",
   "metadata": {},
   "outputs": [],
   "source": []
  }
 ],
 "metadata": {
  "kernelspec": {
   "display_name": "keras5",
   "language": "python",
   "name": "keras5"
  },
  "language_info": {
   "codemirror_mode": {
    "name": "ipython",
    "version": 3
   },
   "file_extension": ".py",
   "mimetype": "text/x-python",
   "name": "python",
   "nbconvert_exporter": "python",
   "pygments_lexer": "ipython3",
   "version": "3.10.9"
  }
 },
 "nbformat": 4,
 "nbformat_minor": 5
}
